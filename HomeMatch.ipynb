{
 "cells": [
  {
   "cell_type": "markdown",
   "id": "a108af04",
   "metadata": {},
   "source": [
    "This is a starter notebook for the project, you'll have to import the libraries you'll need, you can find a list of the ones available in this workspace in the requirements.txt file in this workspace. "
   ]
  },
  {
   "cell_type": "code",
   "execution_count": 1,
   "id": "23d266a4",
   "metadata": {},
   "outputs": [],
   "source": [
    "#Step 1: Setting Up the Python Application"
   ]
  },
  {
   "cell_type": "code",
   "execution_count": 2,
   "id": "6554fd4c",
   "metadata": {},
   "outputs": [],
   "source": [
    "import os\n",
    "\n",
    "os.environ[\"OPENAI_API_KEY\"] = \"voc-10609208041266773387460669f72809407a3.29559041\"\n",
    "os.environ[\"OPENAI_API_BASE\"] = \"https://openai.vocareum.com/v1\"\n",
    "\n",
    "from langchain.llms import OpenAI\n"
   ]
  },
  {
   "cell_type": "code",
   "execution_count": 3,
   "id": "407f9ff1",
   "metadata": {
    "scrolled": true
   },
   "outputs": [
    {
     "name": "stdout",
     "output_type": "stream",
     "text": [
      "Defaulting to user installation because normal site-packages is not writeable\n",
      "Requirement already satisfied: pandas in /home/student/.local/lib/python3.10/site-packages (2.2.3)\n",
      "Requirement already satisfied: python-dateutil>=2.8.2 in /opt/conda/lib/python3.10/site-packages (from pandas) (2.9.0.post0)\n",
      "Requirement already satisfied: numpy>=1.22.4 in /opt/conda/lib/python3.10/site-packages (from pandas) (1.24.3)\n",
      "Requirement already satisfied: pytz>=2020.1 in /opt/conda/lib/python3.10/site-packages (from pandas) (2022.7)\n",
      "Requirement already satisfied: tzdata>=2022.7 in /home/student/.local/lib/python3.10/site-packages (from pandas) (2024.2)\n",
      "Requirement already satisfied: six>=1.5 in /opt/conda/lib/python3.10/site-packages (from python-dateutil>=2.8.2->pandas) (1.16.0)\n"
     ]
    }
   ],
   "source": [
    "#!pip install -r requirements.txt\n",
    "!pip install pandas"
   ]
  },
  {
   "cell_type": "code",
   "execution_count": 4,
   "id": "14c4b04c",
   "metadata": {},
   "outputs": [],
   "source": [
    "import openai\n",
    "import os\n",
    "\n",
    "import pandas as pd\n",
    "\n",
    "from langchain.chat_models import ChatOpenAI\n",
    "from langchain.document_loaders.csv_loader import CSVLoader\n",
    "from langchain.embeddings.openai import OpenAIEmbeddings\n",
    "from langchain.llms import OpenAI\n",
    "from langchain.text_splitter import CharacterTextSplitter\n",
    "from langchain.vectorstores import Chroma\n",
    "from langchain.chains import RetrievalQA\n",
    "from langchain.prompts import PromptTemplate\n",
    "from langchain import LLMChain\n",
    "from langchain.chains.question_answering import load_qa_chain\n"
   ]
  },
  {
   "cell_type": "code",
   "execution_count": 5,
   "id": "d03ef659",
   "metadata": {},
   "outputs": [],
   "source": [
    "#Step 2: Generating Real Estate Listings"
   ]
  },
  {
   "cell_type": "code",
   "execution_count": 6,
   "id": "ae91c698",
   "metadata": {},
   "outputs": [
    {
     "name": "stderr",
     "output_type": "stream",
     "text": [
      "/opt/conda/lib/python3.10/site-packages/langchain/llms/openai.py:202: UserWarning: You are trying to use a chat model. This way of initializing it is no longer supported. Instead, please use: `from langchain.chat_models import ChatOpenAI`\n",
      "  warnings.warn(\n",
      "/opt/conda/lib/python3.10/site-packages/langchain/llms/openai.py:790: UserWarning: You are trying to use a chat model. This way of initializing it is no longer supported. Instead, please use: `from langchain.chat_models import ChatOpenAI`\n",
      "  warnings.warn(\n"
     ]
    }
   ],
   "source": [
    "MODEL_NAME = \"gpt-4o\"\n",
    "API_KEY = \"voc-10609208041266773387460669f72809407a3.29559041\"\n",
    "\n",
    "model = OpenAI(model_name=MODEL_NAME, temperature=0, api_key=API_KEY)\n",
    "\n",
    "prompt=\"\"\"\n",
    "Create 10 real estate listings given the example below. Seperate each listing with a \"!!!\"\n",
    "Neighborhood: Green Oaks\n",
    "Price: $800,000\n",
    "Bedrooms: 3\n",
    "Bathrooms: 2\n",
    "House Size: 2,000 sqft\n",
    "\n",
    "Description: Welcome to this eco-friendly oasis nestled in the heart of Green Oaks. This charming 3-bedroom, 2-bathroom home boasts energy-efficient features such as solar panels and a well-insulated structure. Natural light floods the living spaces, highlighting the beautiful hardwood floors and eco-conscious finishes. The open-concept kitchen and dining area lead to a spacious backyard with a vegetable garden, perfect for the eco-conscious family. Embrace sustainable living without compromising on style in this Green Oaks gem.\n",
    "\n",
    "Neighborhood Description: Green Oaks is a close-knit, environmentally-conscious community with access to organic grocery stores, community gardens, and bike paths. Take a stroll through the nearby Green Oaks Park or grab a cup of coffee at the cozy Green Bean Cafe. With easy access to public transportation and bike lanes, commuting is a breeze.\n",
    "\"\"\""
   ]
  },
  {
   "cell_type": "code",
   "execution_count": 7,
   "id": "2978aaea",
   "metadata": {
    "scrolled": true
   },
   "outputs": [
    {
     "data": {
      "text/plain": [
       "'\\nlistings = model(prompt)\\nlistings\\nlistings = listings.split(\"!!!\")\\ndf = pd.DataFrame(listings, columns=[\\'Listings\\'])\\ndf.to_csv(\\'homes.csv\\', index=False)\\n'"
      ]
     },
     "execution_count": 7,
     "metadata": {},
     "output_type": "execute_result"
    }
   ],
   "source": [
    "'''\n",
    "listings = model(prompt)\n",
    "listings\n",
    "listings = listings.split(\"!!!\")\n",
    "df = pd.DataFrame(listings, columns=['Listings'])\n",
    "df.to_csv('homes.csv', index=False)\n",
    "'''"
   ]
  },
  {
   "cell_type": "code",
   "execution_count": 8,
   "id": "ac37e641",
   "metadata": {},
   "outputs": [
    {
     "name": "stdout",
     "output_type": "stream",
     "text": [
      "                                             Listings\n",
      "0   Neighborhood: Maplewood Heights\\nPrice: $950,0...\n",
      "1   Neighborhood: Sunnyvale\\nPrice: $720,000\\nBedr...\n",
      "2   Neighborhood: Riverwood Estates\\nPrice: $1,200...\n",
      "3   Neighborhood: Willow Creek\\nPrice: $650,000\\nB...\n",
      "4   Neighborhood: Pine Ridge\\nPrice: $780,000\\nBed...\n",
      "5   Neighborhood: Cedar Grove\\nPrice: $890,000\\nBe...\n",
      "6   Neighborhood: Oakwood Hills\\nPrice: $1,050,000...\n",
      "7   Neighborhood: Birchwood Park\\nPrice: $700,000\\...\n",
      "8   Neighborhood: Elmwood Village\\nPrice: $820,000...\n",
      "9   Neighborhood: Redwood Meadows\\nPrice: $980,000...\n",
      "10  Neighborhood: Aspen Ridge\\nPrice: $1,150,000\\n...\n"
     ]
    }
   ],
   "source": [
    "df_loaded = pd.read_csv('listings.csv')\n",
    "print(df_loaded)"
   ]
  },
  {
   "cell_type": "code",
   "execution_count": 9,
   "id": "4f96f140",
   "metadata": {},
   "outputs": [],
   "source": [
    "#Step 3: Storing Listings in a Vector Database"
   ]
  },
  {
   "cell_type": "code",
   "execution_count": 11,
   "id": "d9c68073",
   "metadata": {},
   "outputs": [],
   "source": [
    "loader = CSVLoader(file_path='./listings.csv')\n",
    "docs = loader.load()"
   ]
  },
  {
   "cell_type": "code",
   "execution_count": 12,
   "id": "ce419308",
   "metadata": {},
   "outputs": [],
   "source": [
    "splitter = CharacterTextSplitter(chunk_size=1000, chunk_overlap=0)\n",
    "split_docs = splitter.split_documents(docs)"
   ]
  },
  {
   "cell_type": "code",
   "execution_count": 13,
   "id": "b617b996",
   "metadata": {},
   "outputs": [],
   "source": [
    "embeddings = OpenAIEmbeddings()\n",
    "\n",
    "db = Chroma.from_documents(split_docs, embeddings)"
   ]
  },
  {
   "cell_type": "code",
   "execution_count": 14,
   "id": "48e9bd7d",
   "metadata": {},
   "outputs": [],
   "source": [
    "#Step 4: Building the User Preference Interface"
   ]
  },
  {
   "cell_type": "code",
   "execution_count": 15,
   "id": "37a5622d",
   "metadata": {},
   "outputs": [],
   "source": [
    "questions = [   \n",
    "                \"How big do you want your house to be?\",\n",
    "                \"What are 3 most important things for you in choosing this property?\", \n",
    "                \"Which amenities would you like?\", \n",
    "                \"Which transportation options are important to you?\",\n",
    "                \"How urban do you want your neighborhood to be?\",   \n",
    "            ]\n",
    "answers = [\n",
    "    \"I want a small house for me and my dog\",\n",
    "    \"A nice view, good local food, and only one floor.\",\n",
    "    \"A backyard for my dog, a parking spot, and a large enough kitchen area for friends and family.\",\n",
    "    \"Walkable areas, access to at least one highway\",\n",
    "    \"Urban with a enough trees to not feel away from nature\"]"
   ]
  },
  {
   "cell_type": "code",
   "execution_count": 23,
   "id": "5bced8aa",
   "metadata": {
    "scrolled": false
   },
   "outputs": [
    {
     "name": "stdout",
     "output_type": "stream",
     "text": [
      "How big do you want your house to be? I want a small house for me and my dog\n",
      "What are 3 most important things for you in choosing this property? A nice view, good local food, and only one floor.\n",
      "Which amenities would you like? A backyard for my dog, a parking spot, and a large enough kitchen area for friends and family.\n",
      "Which transportation options are important to you? Walkable areas, access to at least one highway\n",
      "How urban do you want your neighborhood to be? Urban with a enough trees to not feel away from nature\n",
      "\n"
     ]
    }
   ],
   "source": [
    "prefs = \"\"\n",
    "for q, a in zip(questions, answers):\n",
    "    prefs += (q + \" \" + a + \"\\n\")"
   ]
  },
  {
   "cell_type": "code",
   "execution_count": 24,
   "id": "a86165fe",
   "metadata": {},
   "outputs": [],
   "source": [
    "#Step 5: Searching based on preferences"
   ]
  },
  {
   "cell_type": "code",
   "execution_count": 26,
   "id": "cc70bc30",
   "metadata": {},
   "outputs": [
    {
     "data": {
      "text/plain": [
       "[Document(page_content=\"Listings: Neighborhood: Birchwood Park\\nPrice: $700,000\\nBedrooms: 3\\nBathrooms: 2\\nHouse Size: 2,000 sqft\\n\\nDescription: Welcome to this charming 3-bedroom, 2-bathroom home in Birchwood Park. The open-concept living area features a cozy fireplace and hardwood floors. The kitchen is a chef's dream with granite countertops, stainless steel appliances, and a breakfast nook. The master suite includes a walk-in closet and a luxurious bathroom with a soaking tub. The backyard is perfect for entertaining with a large deck and mature trees providing shade and privacy.\\n\\nNeighborhood Description: Birchwood Park is a picturesque community with tree-lined streets, parks, and excellent schools. Enjoy the local shops, cafes, and restaurants, as well as easy access to hiking and biking trails. Birchwood Park offers a perfect blend of suburban tranquility and urban convenience.\", metadata={'row': 7, 'source': './listings.csv'}),\n",
       " Document(page_content=\"Listings: Neighborhood: Sunnyvale\\nPrice: $720,000\\nBedrooms: 3\\nBathrooms: 2\\nHouse Size: 1,800 sqft\\n\\nDescription: Step into this delightful 3-bedroom, 2-bathroom home in the heart of Sunnyvale. The bright and airy living room features vaulted ceilings and large windows that let in plenty of natural light. The updated kitchen boasts quartz countertops and stainless steel appliances. The master suite offers a private retreat with an en-suite bathroom. The backyard is a private oasis with a covered patio, perfect for outdoor dining and relaxation.\\n\\nNeighborhood Description: Sunnyvale is a vibrant community with top-rated schools, parks, and recreational facilities. Enjoy the local farmers' market, boutique shops, and a variety of dining options. With its friendly atmosphere and convenient location, Sunnyvale is a great place to call home.\", metadata={'row': 1, 'source': './listings.csv'}),\n",
       " Document(page_content=\"Listings: Neighborhood: Elmwood Village\\nPrice: $820,000\\nBedrooms: 4\\nBathrooms: 3\\nHouse Size: 2,300 sqft\\n\\nDescription: Step into this delightful 4-bedroom, 3-bathroom home in the heart of Elmwood Village. The bright and airy living room features vaulted ceilings and large windows that let in plenty of natural light. The updated kitchen boasts quartz countertops and stainless steel appliances. The master suite offers a private retreat with an en-suite bathroom. The backyard is a private oasis with a covered patio, perfect for outdoor dining and relaxation.\\n\\nNeighborhood Description: Elmwood Village is a vibrant community with top-rated schools, parks, and recreational facilities. Enjoy the local farmers' market, boutique shops, and a variety of dining options. With its friendly atmosphere and convenient location, Elmwood Village is a great place to call home.\", metadata={'row': 8, 'source': './listings.csv'}),\n",
       " Document(page_content=\"Listings: Neighborhood: Willow Creek\\nPrice: $650,000\\nBedrooms: 3\\nBathrooms: 2.5\\nHouse Size: 2,100 sqft\\n\\nDescription: Welcome to this charming 3-bedroom, 2.5-bathroom home in Willow Creek. The open-concept living area features a cozy fireplace and hardwood floors. The kitchen is a chef's dream with granite countertops, stainless steel appliances, and a breakfast nook. The master suite includes a walk-in closet and a luxurious bathroom with a soaking tub. The backyard is perfect for entertaining with a large deck and mature trees providing shade and privacy.\\n\\nNeighborhood Description: Willow Creek is a picturesque community with tree-lined streets, parks, and excellent schools. Enjoy the local shops, cafes, and restaurants, as well as easy access to hiking and biking trails. Willow Creek offers a perfect blend of suburban tranquility and urban convenience.\", metadata={'row': 3, 'source': './listings.csv'}),\n",
       " Document(page_content=\"Listings: Neighborhood: Cedar Grove\\nPrice: $890,000\\nBedrooms: 4\\nBathrooms: 3.5\\nHouse Size: 2,800 sqft\\n\\nDescription: Discover this stunning 4-bedroom, 3.5-bathroom home in Cedar Grove. The open floor plan features a spacious living area with a fireplace and hardwood floors. The gourmet kitchen boasts stainless steel appliances, granite countertops, and a large island. The master suite offers a private retreat with a spa-like bathroom and a walk-in closet. The backyard is perfect for entertaining with a large deck and a beautifully landscaped yard.\\n\\nNeighborhood Description: Cedar Grove is a vibrant community with top-rated schools, parks, and recreational facilities. Enjoy the local farmers' market, boutique shops, and a variety of dining options. With its friendly atmosphere and convenient location, Cedar Grove is a great place to call home.\", metadata={'row': 5, 'source': './listings.csv'})]"
      ]
     },
     "execution_count": 26,
     "metadata": {},
     "output_type": "execute_result"
    }
   ],
   "source": [
    "similar_docs = db.similarity_search(prefs, k=5)\n",
    "similar_docs"
   ]
  },
  {
   "cell_type": "code",
   "execution_count": 32,
   "id": "179b932e",
   "metadata": {},
   "outputs": [],
   "source": [
    "#Step 6: Personalizing Listing Descriptions"
   ]
  },
  {
   "cell_type": "code",
   "execution_count": 38,
   "id": "c205f413",
   "metadata": {},
   "outputs": [],
   "source": [
    "TEMPLATE = \"\"\"\n",
    "Based on the context:\n",
    "\n",
    "{context}\n",
    "\n",
    "Choose one listing that best fits the users preferences: {prefs}. Generate a response that lists the neighborhood, price, beds, baths, and size. \n",
    "Then create a small summary of the propery that is tailored to the users prefrences \n",
    "\n",
    "\"\"\""
   ]
  },
  {
   "cell_type": "code",
   "execution_count": 39,
   "id": "4d73237a",
   "metadata": {},
   "outputs": [
    {
     "name": "stdout",
     "output_type": "stream",
     "text": [
      "**Neighborhood:** Sunnyvale  \n",
      "**Price:** $720,000  \n",
      "**Bedrooms:** 3  \n",
      "**Bathrooms:** 2  \n",
      "**House Size:** 1,800 sqft  \n",
      "\n",
      "**Summary:**  \n",
      "This delightful 3-bedroom, 2-bathroom home in the heart of Sunnyvale is perfect for you and your dog. The single-story layout ensures easy accessibility, and the bright and airy living room with vaulted ceilings and large windows offers a beautiful view and plenty of natural light. The updated kitchen with quartz countertops and stainless steel appliances is spacious enough for hosting friends and family. The backyard is a private oasis with a covered patio, ideal for outdoor dining and relaxation, and provides ample space for your dog to play. \n",
      "\n",
      "Sunnyvale is an urban neighborhood with a friendly atmosphere, top-rated schools, parks, and recreational facilities. You'll enjoy the local farmers' market, boutique shops, and a variety of dining options, ensuring you have access to good local food. The area is walkable and offers easy access to at least one highway, making transportation convenient. With its blend of urban convenience and natural beauty, Sunnyvale is a great place to call home.\n"
     ]
    }
   ],
   "source": [
    "use_chain_helper = False\n",
    "if use_chain_helper:\n",
    "    rag = RetrievalQA.from_chain_type(llm=llm, chain_type=\"stuff\", retriever=db.as_retriever())\n",
    "    print(rag.run(query))\n",
    "else:\n",
    "    prompt = PromptTemplate(\n",
    "        template=TEMPLATE,\n",
    "        input_variables=[\"prefs\", \"context\"],\n",
    "    )\n",
    "    chain = load_qa_chain(model, prompt = prompt, chain_type=\"stuff\")\n",
    "    print(chain.run(input_documents=similar_docs, prefs = prefs))"
   ]
  },
  {
   "cell_type": "code",
   "execution_count": null,
   "id": "850e5f04",
   "metadata": {},
   "outputs": [],
   "source": []
  },
  {
   "cell_type": "code",
   "execution_count": null,
   "id": "f6524c68",
   "metadata": {},
   "outputs": [],
   "source": []
  },
  {
   "cell_type": "code",
   "execution_count": null,
   "id": "d89e9235",
   "metadata": {},
   "outputs": [],
   "source": []
  }
 ],
 "metadata": {
  "kernelspec": {
   "display_name": "Python 3 (ipykernel)",
   "language": "python",
   "name": "python3"
  },
  "language_info": {
   "codemirror_mode": {
    "name": "ipython",
    "version": 3
   },
   "file_extension": ".py",
   "mimetype": "text/x-python",
   "name": "python",
   "nbconvert_exporter": "python",
   "pygments_lexer": "ipython3",
   "version": "3.10.11"
  }
 },
 "nbformat": 4,
 "nbformat_minor": 5
}
