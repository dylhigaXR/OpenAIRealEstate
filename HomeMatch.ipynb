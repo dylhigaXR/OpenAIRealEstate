{
 "cells": [
  {
   "cell_type": "markdown",
   "id": "a108af04",
   "metadata": {},
   "source": [
    "This is a starter notebook for the project, you'll have to import the libraries you'll need, you can find a list of the ones available in this workspace in the requirements.txt file in this workspace. "
   ]
  },
  {
   "cell_type": "code",
   "execution_count": 1,
   "id": "6554fd4c",
   "metadata": {},
   "outputs": [],
   "source": [
    "import os\n",
    "\n",
    "os.environ[\"OPENAI_API_KEY\"] = \"voc-10609208041266773387460669f72809407a3.29559041\"\n",
    "os.environ[\"OPENAI_API_BASE\"] = \"https://openai.vocareum.com/v1\"\n",
    "\n",
    "from langchain.llms import OpenAI\n"
   ]
  },
  {
   "cell_type": "code",
   "execution_count": 2,
   "id": "407f9ff1",
   "metadata": {
    "scrolled": true
   },
   "outputs": [
    {
     "name": "stdout",
     "output_type": "stream",
     "text": [
      "Defaulting to user installation because normal site-packages is not writeable\n",
      "Requirement already satisfied: chromadb==0.4.12 in /home/student/.local/lib/python3.10/site-packages (0.4.12)\n",
      "Requirement already satisfied: pydantic<2.0,>=1.9 in /home/student/.local/lib/python3.10/site-packages (from chromadb==0.4.12) (1.10.18)\n",
      "Requirement already satisfied: chroma-hnswlib==0.7.3 in /home/student/.local/lib/python3.10/site-packages (from chromadb==0.4.12) (0.7.3)\n",
      "Requirement already satisfied: onnxruntime>=1.14.1 in /opt/conda/lib/python3.10/site-packages (from chromadb==0.4.12) (1.18.0)\n",
      "Requirement already satisfied: importlib-resources in /opt/conda/lib/python3.10/site-packages (from chromadb==0.4.12) (6.4.0)\n",
      "Requirement already satisfied: numpy>=1.22.5 in /opt/conda/lib/python3.10/site-packages (from chromadb==0.4.12) (1.24.3)\n",
      "Requirement already satisfied: requests>=2.28 in /opt/conda/lib/python3.10/site-packages (from chromadb==0.4.12) (2.29.0)\n",
      "Requirement already satisfied: typer>=0.9.0 in /opt/conda/lib/python3.10/site-packages (from chromadb==0.4.12) (0.12.3)\n",
      "Requirement already satisfied: fastapi<0.100.0,>=0.95.2 in /opt/conda/lib/python3.10/site-packages (from chromadb==0.4.12) (0.99.1)\n",
      "Requirement already satisfied: pypika>=0.48.9 in /opt/conda/lib/python3.10/site-packages (from chromadb==0.4.12) (0.48.9)\n",
      "Requirement already satisfied: tokenizers>=0.13.2 in /opt/conda/lib/python3.10/site-packages (from chromadb==0.4.12) (0.13.3)\n",
      "Requirement already satisfied: overrides>=7.3.1 in /opt/conda/lib/python3.10/site-packages (from chromadb==0.4.12) (7.7.0)\n",
      "Requirement already satisfied: typing-extensions>=4.5.0 in /opt/conda/lib/python3.10/site-packages (from chromadb==0.4.12) (4.11.0)\n",
      "Requirement already satisfied: posthog>=2.4.0 in /opt/conda/lib/python3.10/site-packages (from chromadb==0.4.12) (3.5.0)\n",
      "Requirement already satisfied: pulsar-client>=3.1.0 in /opt/conda/lib/python3.10/site-packages (from chromadb==0.4.12) (3.5.0)\n",
      "Requirement already satisfied: bcrypt>=4.0.1 in /opt/conda/lib/python3.10/site-packages (from chromadb==0.4.12) (4.1.3)\n",
      "Requirement already satisfied: tqdm>=4.65.0 in /opt/conda/lib/python3.10/site-packages (from chromadb==0.4.12) (4.65.0)\n",
      "Requirement already satisfied: uvicorn[standard]>=0.18.3 in /opt/conda/lib/python3.10/site-packages (from chromadb==0.4.12) (0.29.0)\n",
      "Requirement already satisfied: starlette<0.28.0,>=0.27.0 in /opt/conda/lib/python3.10/site-packages (from fastapi<0.100.0,>=0.95.2->chromadb==0.4.12) (0.27.0)\n",
      "Requirement already satisfied: packaging in /home/student/.local/lib/python3.10/site-packages (from onnxruntime>=1.14.1->chromadb==0.4.12) (24.1)\n",
      "Requirement already satisfied: sympy in /opt/conda/lib/python3.10/site-packages (from onnxruntime>=1.14.1->chromadb==0.4.12) (1.12)\n",
      "Requirement already satisfied: flatbuffers in /opt/conda/lib/python3.10/site-packages (from onnxruntime>=1.14.1->chromadb==0.4.12) (24.3.25)\n",
      "Requirement already satisfied: protobuf in /home/student/.local/lib/python3.10/site-packages (from onnxruntime>=1.14.1->chromadb==0.4.12) (4.25.5)\n",
      "Requirement already satisfied: coloredlogs in /opt/conda/lib/python3.10/site-packages (from onnxruntime>=1.14.1->chromadb==0.4.12) (15.0.1)\n",
      "Requirement already satisfied: python-dateutil>2.1 in /opt/conda/lib/python3.10/site-packages (from posthog>=2.4.0->chromadb==0.4.12) (2.9.0.post0)\n",
      "Requirement already satisfied: six>=1.5 in /opt/conda/lib/python3.10/site-packages (from posthog>=2.4.0->chromadb==0.4.12) (1.16.0)\n",
      "Requirement already satisfied: monotonic>=1.5 in /opt/conda/lib/python3.10/site-packages (from posthog>=2.4.0->chromadb==0.4.12) (1.6)\n",
      "Requirement already satisfied: backoff>=1.10.0 in /opt/conda/lib/python3.10/site-packages (from posthog>=2.4.0->chromadb==0.4.12) (2.2.1)\n",
      "Requirement already satisfied: certifi in /opt/conda/lib/python3.10/site-packages (from pulsar-client>=3.1.0->chromadb==0.4.12) (2023.5.7)\n",
      "Requirement already satisfied: charset-normalizer<4,>=2 in /opt/conda/lib/python3.10/site-packages (from requests>=2.28->chromadb==0.4.12) (2.0.4)\n",
      "Requirement already satisfied: urllib3<1.27,>=1.21.1 in /opt/conda/lib/python3.10/site-packages (from requests>=2.28->chromadb==0.4.12) (1.26.15)\n",
      "Requirement already satisfied: idna<4,>=2.5 in /opt/conda/lib/python3.10/site-packages (from requests>=2.28->chromadb==0.4.12) (3.4)\n",
      "Requirement already satisfied: rich>=10.11.0 in /opt/conda/lib/python3.10/site-packages (from typer>=0.9.0->chromadb==0.4.12) (13.7.1)\n",
      "Requirement already satisfied: click>=8.0.0 in /opt/conda/lib/python3.10/site-packages (from typer>=0.9.0->chromadb==0.4.12) (8.1.7)\n",
      "Requirement already satisfied: shellingham>=1.3.0 in /opt/conda/lib/python3.10/site-packages (from typer>=0.9.0->chromadb==0.4.12) (1.5.4)\n",
      "Requirement already satisfied: h11>=0.8 in /opt/conda/lib/python3.10/site-packages (from uvicorn[standard]>=0.18.3->chromadb==0.4.12) (0.14.0)\n",
      "Requirement already satisfied: python-dotenv>=0.13 in /opt/conda/lib/python3.10/site-packages (from uvicorn[standard]>=0.18.3->chromadb==0.4.12) (1.0.1)\n",
      "Requirement already satisfied: httptools>=0.5.0 in /opt/conda/lib/python3.10/site-packages (from uvicorn[standard]>=0.18.3->chromadb==0.4.12) (0.6.1)\n",
      "Requirement already satisfied: websockets>=10.4 in /opt/conda/lib/python3.10/site-packages (from uvicorn[standard]>=0.18.3->chromadb==0.4.12) (12.0)\n",
      "Requirement already satisfied: pyyaml>=5.1 in /opt/conda/lib/python3.10/site-packages (from uvicorn[standard]>=0.18.3->chromadb==0.4.12) (6.0)\n",
      "Requirement already satisfied: uvloop!=0.15.0,!=0.15.1,>=0.14.0 in /opt/conda/lib/python3.10/site-packages (from uvicorn[standard]>=0.18.3->chromadb==0.4.12) (0.19.0)\n",
      "Requirement already satisfied: watchfiles>=0.13 in /opt/conda/lib/python3.10/site-packages (from uvicorn[standard]>=0.18.3->chromadb==0.4.12) (0.21.0)\n",
      "Requirement already satisfied: markdown-it-py>=2.2.0 in /opt/conda/lib/python3.10/site-packages (from rich>=10.11.0->typer>=0.9.0->chromadb==0.4.12) (3.0.0)\n",
      "Requirement already satisfied: pygments<3.0.0,>=2.13.0 in /opt/conda/lib/python3.10/site-packages (from rich>=10.11.0->typer>=0.9.0->chromadb==0.4.12) (2.15.1)\n",
      "Requirement already satisfied: anyio<5,>=3.4.0 in /opt/conda/lib/python3.10/site-packages (from starlette<0.28.0,>=0.27.0->fastapi<0.100.0,>=0.95.2->chromadb==0.4.12) (3.7.1)\n",
      "Requirement already satisfied: humanfriendly>=9.1 in /opt/conda/lib/python3.10/site-packages (from coloredlogs->onnxruntime>=1.14.1->chromadb==0.4.12) (10.0)\n",
      "Requirement already satisfied: mpmath>=0.19 in /opt/conda/lib/python3.10/site-packages (from sympy->onnxruntime>=1.14.1->chromadb==0.4.12) (1.3.0)\n",
      "Requirement already satisfied: sniffio>=1.1 in /opt/conda/lib/python3.10/site-packages (from anyio<5,>=3.4.0->starlette<0.28.0,>=0.27.0->fastapi<0.100.0,>=0.95.2->chromadb==0.4.12) (1.3.1)\n",
      "Requirement already satisfied: exceptiongroup in /opt/conda/lib/python3.10/site-packages (from anyio<5,>=3.4.0->starlette<0.28.0,>=0.27.0->fastapi<0.100.0,>=0.95.2->chromadb==0.4.12) (1.1.1)\n",
      "Requirement already satisfied: mdurl~=0.1 in /opt/conda/lib/python3.10/site-packages (from markdown-it-py>=2.2.0->rich>=10.11.0->typer>=0.9.0->chromadb==0.4.12) (0.1.2)\n"
     ]
    }
   ],
   "source": [
    "!pip install chromadb==0.4.12"
   ]
  },
  {
   "cell_type": "code",
   "execution_count": 3,
   "id": "14c4b04c",
   "metadata": {},
   "outputs": [],
   "source": [
    "import openai\n",
    "import os\n",
    "\n",
    "import pandas as pd\n",
    "\n",
    "from langchain.chat_models import ChatOpenAI\n",
    "from langchain.document_loaders.csv_loader import CSVLoader\n",
    "from langchain.embeddings.openai import OpenAIEmbeddings\n",
    "from langchain.llms import OpenAI\n",
    "from langchain.text_splitter import CharacterTextSplitter\n",
    "from langchain.vectorstores import Chroma\n",
    "from langchain.chains import RetrievalQA\n",
    "from langchain.prompts import PromptTemplate\n",
    "from langchain import LLMChain\n",
    "from langchain.chains.question_answering import load_qa_chain\n"
   ]
  },
  {
   "cell_type": "code",
   "execution_count": 4,
   "id": "ae91c698",
   "metadata": {},
   "outputs": [
    {
     "name": "stderr",
     "output_type": "stream",
     "text": [
      "/opt/conda/lib/python3.10/site-packages/langchain/llms/openai.py:202: UserWarning: You are trying to use a chat model. This way of initializing it is no longer supported. Instead, please use: `from langchain.chat_models import ChatOpenAI`\n",
      "  warnings.warn(\n",
      "/opt/conda/lib/python3.10/site-packages/langchain/llms/openai.py:790: UserWarning: You are trying to use a chat model. This way of initializing it is no longer supported. Instead, please use: `from langchain.chat_models import ChatOpenAI`\n",
      "  warnings.warn(\n"
     ]
    }
   ],
   "source": [
    "MODEL_NAME = \"gpt-4o\"\n",
    "API_KEY = \"voc-10609208041266773387460669f72809407a3.29559041\"\n",
    "\n",
    "model = OpenAI(model_name=MODEL_NAME, temperature=0, api_key=API_KEY)\n",
    "\n",
    "prompt=\"\"\"\n",
    "Create 10 real estate listings given the example below. Seperate each listing with a \"!!!\"\n",
    "Neighborhood: Green Oaks\n",
    "Price: $800,000\n",
    "Bedrooms: 3\n",
    "Bathrooms: 2\n",
    "House Size: 2,000 sqft\n",
    "\n",
    "Description: Welcome to this eco-friendly oasis nestled in the heart of Green Oaks. This charming 3-bedroom, 2-bathroom home boasts energy-efficient features such as solar panels and a well-insulated structure. Natural light floods the living spaces, highlighting the beautiful hardwood floors and eco-conscious finishes. The open-concept kitchen and dining area lead to a spacious backyard with a vegetable garden, perfect for the eco-conscious family. Embrace sustainable living without compromising on style in this Green Oaks gem.\n",
    "\n",
    "Neighborhood Description: Green Oaks is a close-knit, environmentally-conscious community with access to organic grocery stores, community gardens, and bike paths. Take a stroll through the nearby Green Oaks Park or grab a cup of coffee at the cozy Green Bean Cafe. With easy access to public transportation and bike lanes, commuting is a breeze.\n",
    "\"\"\""
   ]
  },
  {
   "cell_type": "code",
   "execution_count": 5,
   "id": "2978aaea",
   "metadata": {
    "scrolled": true
   },
   "outputs": [
    {
     "data": {
      "text/plain": [
       "'\\nlistings = model(prompt)\\nlistings\\nlistings = listings.split(\"!!!\")\\ndf = pd.DataFrame(listings, columns=[\\'Listings\\'])\\ndf.to_csv(\\'homes.csv\\', index=False)\\n'"
      ]
     },
     "execution_count": 5,
     "metadata": {},
     "output_type": "execute_result"
    }
   ],
   "source": [
    "'''\n",
    "listings = model(prompt)\n",
    "listings\n",
    "listings = listings.split(\"!!!\")\n",
    "df = pd.DataFrame(listings, columns=['Listings'])\n",
    "df.to_csv('homes.csv', index=False)\n",
    "'''"
   ]
  },
  {
   "cell_type": "code",
   "execution_count": 6,
   "id": "ac37e641",
   "metadata": {},
   "outputs": [
    {
     "name": "stdout",
     "output_type": "stream",
     "text": [
      "                                             Listings\n",
      "0   Neighborhood: Maplewood Heights\\nPrice: $950,0...\n",
      "1   Neighborhood: Sunnyvale\\nPrice: $720,000\\nBedr...\n",
      "2   Neighborhood: Riverwood Estates\\nPrice: $1,200...\n",
      "3   Neighborhood: Willow Creek\\nPrice: $650,000\\nB...\n",
      "4   Neighborhood: Pine Ridge\\nPrice: $780,000\\nBed...\n",
      "5   Neighborhood: Cedar Grove\\nPrice: $890,000\\nBe...\n",
      "6   Neighborhood: Oakwood Hills\\nPrice: $1,050,000...\n",
      "7   Neighborhood: Birchwood Park\\nPrice: $700,000\\...\n",
      "8   Neighborhood: Elmwood Village\\nPrice: $820,000...\n",
      "9   Neighborhood: Redwood Meadows\\nPrice: $980,000...\n",
      "10  Neighborhood: Aspen Ridge\\nPrice: $1,150,000\\n...\n"
     ]
    }
   ],
   "source": [
    "df_loaded = pd.read_csv('listings.csv')\n",
    "print(df_loaded)"
   ]
  },
  {
   "cell_type": "code",
   "execution_count": 7,
   "id": "d9c68073",
   "metadata": {},
   "outputs": [],
   "source": [
    "loader = CSVLoader(file_path='./homes.csv')\n",
    "docs = loader.load()"
   ]
  },
  {
   "cell_type": "code",
   "execution_count": 8,
   "id": "ce419308",
   "metadata": {},
   "outputs": [],
   "source": [
    "splitter = CharacterTextSplitter(chunk_size=1000, chunk_overlap=0)\n",
    "split_docs = splitter.split_documents(docs)"
   ]
  },
  {
   "cell_type": "code",
   "execution_count": 9,
   "id": "b617b996",
   "metadata": {},
   "outputs": [],
   "source": [
    "embeddings = OpenAIEmbeddings()\n",
    "\n",
    "db = Chroma.from_documents(split_docs, embeddings)"
   ]
  },
  {
   "cell_type": "code",
   "execution_count": 17,
   "id": "37a5622d",
   "metadata": {},
   "outputs": [],
   "source": [
    "questions = [   \n",
    "                \"How big do you want your house to be?\",\n",
    "                \"What are 3 most important things for you in choosing this property?\", \n",
    "                \"Which amenities would you like?\", \n",
    "                \"Which transportation options are important to you?\",\n",
    "                \"How urban do you want your neighborhood to be?\",   \n",
    "            ]\n",
    "answers = [\n",
    "    \"I want a small house for me and my dog\",\n",
    "    \"A nice view, good local food, and only one floor.\",\n",
    "    \"A backyard for my dog, a parking spot, and a large enough kitchen area for friends and family.\",\n",
    "    \"Walkable areas, access to at least one highway\",\n",
    "    \"Urban with a enough trees to not feel away from nature\"]"
   ]
  },
  {
   "cell_type": "code",
   "execution_count": 18,
   "id": "5bced8aa",
   "metadata": {},
   "outputs": [
    {
     "name": "stdout",
     "output_type": "stream",
     "text": [
      "### Best Listing for Your Needs\n",
      "\n",
      "**Neighborhood: Willow Creek**\n",
      "- **Price:** $650,000\n",
      "- **Bedrooms:** 3\n",
      "- **Bathrooms:** 2.5\n",
      "- **House Size:** 2,100 sqft\n",
      "\n",
      "**Description:**\n",
      "Welcome to this charming 3-bedroom, 2.5-bathroom home in Willow Creek. The open-concept living area features a cozy fireplace and hardwood floors. The kitchen is a chef's dream with granite countertops, stainless steel appliances, and a breakfast nook. The master suite includes a walk-in closet and a luxurious bathroom with a soaking tub. The backyard is perfect for entertaining with a large deck and mature trees providing shade and privacy.\n",
      "\n",
      "**Neighborhood Description:**\n",
      "Willow Creek is a picturesque community with tree-lined streets, parks, and excellent schools. Enjoy the local shops, cafes, and restaurants, as well as easy access to hiking and biking trails. Willow Creek offers a perfect blend of suburban tranquility and urban convenience.\n",
      "\n",
      "### Summary\n",
      "\n",
      "This Willow Creek property is an excellent match for your needs and preferences. The single-story layout ensures ease of access, and the spacious backyard is perfect for your dog to roam freely. The open-concept living area and large kitchen provide ample space for entertaining friends and family. The neighborhood offers a blend of urban convenience and natural beauty, with tree-lined streets and easy access to local shops, cafes, and restaurants. Additionally, the proximity to hiking and biking trails ensures you and your dog can enjoy the outdoors. The price is also within your budget, making this home a great fit for you.\n"
     ]
    }
   ],
   "source": [
    "query = f\"\"\"\n",
    "    {questions[0]} {answers[0]} \n",
    "    {questions[1]} {answers[1]}\n",
    "    {questions[2]} {answers[2]}\n",
    "    {questions[3]} {answers[3]}\n",
    "    {questions[4]} {answers[4]}\n",
    "    \n",
    "    Use these question and answers to provide the best listing. Create a small sumamry after the listing that emphasizes their wants and needs.\n",
    "    \"\"\"\n",
    "\n",
    "use_chain_helper = False\n",
    "if use_chain_helper:\n",
    "    rag = RetrievalQA.from_chain_type(llm=llm, chain_type=\"stuff\", retriever=db.as_retriever())\n",
    "    print(rag.run(query))\n",
    "else:\n",
    "    similar_docs = db.similarity_search(query, k=5)\n",
    "    prompt = PromptTemplate(\n",
    "        template=\"{query}\\nContext: {context}\",\n",
    "        input_variables=[\"query\", \"context\"],\n",
    "    )\n",
    "    chain = load_qa_chain(model, prompt = prompt, chain_type=\"stuff\")\n",
    "    print(chain.run(input_documents=similar_docs, query = query))"
   ]
  },
  {
   "cell_type": "code",
   "execution_count": null,
   "id": "f6524c68",
   "metadata": {},
   "outputs": [],
   "source": [
    "'''\n",
    "questions = [   \n",
    "                \"How big do you want your house to be?\",\n",
    "                \"What are 3 most important things for you in choosing this property?\", \n",
    "                \"Which amenities would you like?\", \n",
    "                \"Which transportation options are important to you?\",\n",
    "                \"How urban do you want your neighborhood to be?\",   \n",
    "            ]\n",
    "answers = [\n",
    "    \"A comfortable three-bedroom house with a spacious kitchen and a cozy living room.\",\n",
    "    \"A quiet neighborhood, good local schools, and convenient shopping options.\",\n",
    "    \"A backyard for gardening, a two-car garage, and a modern, energy-efficient heating system.\",\n",
    "    \"Easy access to a reliable bus line, proximity to a major highway, and bike-friendly roads.\",\n",
    "    \"A balance between suburban tranquility and access to urban amenities like restaurants and theaters.\"]\n",
    "    \n",
    "HomeMatch:\n",
    "Based on your preferences, the best listing for you would be the property in **Birchwood Park**. Here’s why:\n",
    "\n",
    "### Listing: Birchwood Park\n",
    "**Price:** $700,000  \n",
    "**Bedrooms:** 3  \n",
    "**Bathrooms:** 2  \n",
    "**House Size:** 2,000 sqft  \n",
    "\n",
    "**Description:**  \n",
    "Welcome to this charming 3-bedroom, 2-bathroom home in Birchwood Park. The open-concept living area features a cozy fireplace and hardwood floors. The kitchen is a chef's dream with granite countertops, stainless steel appliances, and a breakfast nook. The master suite includes a walk-in closet and a luxurious bathroom with a soaking tub. The backyard is perfect for entertaining with a large deck and mature trees providing shade and privacy.\n",
    "\n",
    "**Neighborhood Description:**  \n",
    "Birchwood Park is a picturesque community with tree-lined streets, parks, and excellent schools. Enjoy the local shops, cafes, and restaurants, as well as easy access to hiking and biking trails. Birchwood Park offers a perfect blend of suburban tranquility and urban convenience.\n",
    "\n",
    "### Why Birchwood Park is the Best Fit:\n",
    "\n",
    "1. **House Size and Layout:**\n",
    "   - The 3-bedroom, 2-bathroom layout matches your requirement for a comfortable three-bedroom house.\n",
    "   - The open-concept living area and spacious kitchen align with your desire for a cozy living room and a spacious kitchen.\n",
    "\n",
    "2. **Neighborhood:**\n",
    "   - Birchwood Park offers a quiet, picturesque community, which aligns with your preference for a quiet neighborhood.\n",
    "   - The excellent schools in the area meet your requirement for good local schools.\n",
    "\n",
    "3. **Amenities:**\n",
    "   - The backyard with a large deck is perfect for gardening and outdoor activities.\n",
    "   - Although it doesn't explicitly mention a two-car garage, the overall property size and price suggest that it could be a feature worth inquiring about.\n",
    "   - The modern kitchen and luxurious bathroom indicate a focus on quality and comfort, which may include energy-efficient systems.\n",
    "\n",
    "4. **Transportation:**\n",
    "   - Birchwood Park offers easy access to hiking and biking trails, which aligns with your preference for bike-friendly roads.\n",
    "   - While the listing does not explicitly mention proximity to a major highway or a reliable bus line, the urban convenience aspect suggests good connectivity.\n",
    "\n",
    "5. **Urban Balance:**\n",
    "   - Birchwood Park provides a perfect blend of suburban tranquility and urban convenience, matching your desire for a balance between suburban and urban amenities.\n",
    "\n",
    "### Additional Considerations:\n",
    "- **Price:** At $700,000, this property is within your budget and offers good value for the features and amenities provided.\n",
    "- **House Size:** With 2,000 sqft, this home offers ample space for comfortable living.\n",
    "\n",
    "Overall, Birchwood Park seems to be the best match for your needs and preferences.'''"
   ]
  },
  {
   "cell_type": "code",
   "execution_count": null,
   "id": "d89e9235",
   "metadata": {},
   "outputs": [],
   "source": [
    "'''### Best Listing for Your Needs\n",
    "\n",
    "**Neighborhood: Willow Creek**\n",
    "- **Price:** $650,000\n",
    "- **Bedrooms:** 3\n",
    "- **Bathrooms:** 2.5\n",
    "- **House Size:** 2,100 sqft\n",
    "\n",
    "**Description:**\n",
    "Welcome to this charming 3-bedroom, 2.5-bathroom home in Willow Creek. The open-concept living area features a cozy fireplace and hardwood floors. The kitchen is a chef's dream with granite countertops, stainless steel appliances, and a breakfast nook. The master suite includes a walk-in closet and a luxurious bathroom with a soaking tub. The backyard is perfect for entertaining with a large deck and mature trees providing shade and privacy.\n",
    "\n",
    "**Neighborhood Description:**\n",
    "Willow Creek is a picturesque community with tree-lined streets, parks, and excellent schools. Enjoy the local shops, cafes, and restaurants, as well as easy access to hiking and biking trails. Willow Creek offers a perfect blend of suburban tranquility and urban convenience.\n",
    "\n",
    "### Summary\n",
    "\n",
    "This Willow Creek property is an excellent match for your needs and preferences. The single-story layout ensures ease of access, and the spacious backyard is perfect for your dog to roam freely. The open-concept living area and large kitchen provide ample space for entertaining friends and family. The neighborhood offers a blend of urban convenience and natural beauty, with tree-lined streets and easy access to local shops, cafes, and restaurants. Additionally, the proximity to hiking and biking trails ensures you and your dog can enjoy the outdoors. The price is also within your budget, making this home a great fit for you.'''"
   ]
  }
 ],
 "metadata": {
  "kernelspec": {
   "display_name": "Python 3 (ipykernel)",
   "language": "python",
   "name": "python3"
  },
  "language_info": {
   "codemirror_mode": {
    "name": "ipython",
    "version": 3
   },
   "file_extension": ".py",
   "mimetype": "text/x-python",
   "name": "python",
   "nbconvert_exporter": "python",
   "pygments_lexer": "ipython3",
   "version": "3.10.11"
  }
 },
 "nbformat": 4,
 "nbformat_minor": 5
}
